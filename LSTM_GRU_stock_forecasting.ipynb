{
 "cells": [
  {
   "cell_type": "code",
   "execution_count": 16,
   "metadata": {},
   "outputs": [
    {
     "name": "stdout",
     "output_type": "stream",
     "text": [
      "No GPU was detected. LSTMs and CNNs can be very slow without a GPU.\n"
     ]
    }
   ],
   "source": [
    "# Python ≥3.5 is required\n",
    "import sys\n",
    "assert sys.version_info >= (3, 5)\n",
    "\n",
    "# Is this notebook running on Colab or Kaggle?\n",
    "IS_COLAB = \"google.colab\" in sys.modules\n",
    "IS_KAGGLE = \"kaggle_secrets\" in sys.modules\n",
    "\n",
    "# Scikit-Learn ≥0.20 is required\n",
    "import sklearn\n",
    "assert sklearn.__version__ >= \"0.20\"\n",
    "\n",
    "# TensorFlow ≥2.0 is required\n",
    "import tensorflow as tf\n",
    "from tensorflow import keras\n",
    "assert tf.__version__ >= \"2.0\"\n",
    "\n",
    "if not tf.config.list_physical_devices('GPU'):\n",
    "    print(\"No GPU was detected. LSTMs and CNNs can be very slow without a GPU.\")\n",
    "    if IS_COLAB:\n",
    "        print(\"Go to Runtime > Change runtime and select a GPU hardware accelerator.\")\n",
    "    if IS_KAGGLE:\n",
    "        print(\"Go to Settings > Accelerator and select GPU.\")\n",
    "\n",
    "# Common imports\n",
    "import numpy as np\n",
    "import os\n",
    "from pathlib import Path\n",
    "\n",
    "# to make this notebook's output stable across runs\n",
    "np.random.seed(42)\n",
    "tf.random.set_seed(42)\n",
    "\n",
    "\n",
    "import seaborn as sns\n",
    "plt.style.use(\"fivethirtyeight\")\n",
    "sns.set_style('whitegrid')\n",
    "%matplotlib inline\n",
    "from datetime import datetime\n",
    "from sklearn.preprocessing import MinMaxScaler\n",
    "\n",
    "# To plot pretty figures\n",
    "%matplotlib inline\n",
    "import matplotlib as mpl\n",
    "import matplotlib.pyplot as plt\n",
    "mpl.rc('axes', labelsize=14)\n",
    "mpl.rc('xtick', labelsize=12)\n",
    "mpl.rc('ytick', labelsize=12)\n",
    "\n",
    "# Where to save the figures\n",
    "PROJECT_ROOT_DIR = \".\"\n",
    "CHAPTER_ID = \"rnn\"\n",
    "IMAGES_PATH = os.path.join(PROJECT_ROOT_DIR, \"images\", CHAPTER_ID)\n",
    "os.makedirs(IMAGES_PATH, exist_ok=True)\n",
    "\n",
    "def save_fig(fig_id, tight_layout=True, fig_extension=\"png\", resolution=300):\n",
    "    path = os.path.join(IMAGES_PATH, fig_id + \".\" + fig_extension)\n",
    "    print(\"Saving figure\", fig_id)\n",
    "    if tight_layout:\n",
    "        plt.tight_layout()\n",
    "    plt.savefig(path, format=fig_extension, dpi=resolution)\n",
    "\n",
    "\n"
   ]
  },
  {
   "cell_type": "markdown",
   "metadata": {},
   "source": [
    "### loading train and test datasets"
   ]
  },
  {
   "cell_type": "code",
   "execution_count": 2,
   "metadata": {},
   "outputs": [],
   "source": [
    "train = web.DataReader('MSFT', data_source='yahoo', start='2016-11-07', end='2021-11-05')"
   ]
  },
  {
   "cell_type": "code",
   "execution_count": 3,
   "metadata": {},
   "outputs": [
    {
     "data": {
      "text/html": [
       "<div>\n",
       "<style scoped>\n",
       "    .dataframe tbody tr th:only-of-type {\n",
       "        vertical-align: middle;\n",
       "    }\n",
       "\n",
       "    .dataframe tbody tr th {\n",
       "        vertical-align: top;\n",
       "    }\n",
       "\n",
       "    .dataframe thead th {\n",
       "        text-align: right;\n",
       "    }\n",
       "</style>\n",
       "<table border=\"1\" class=\"dataframe\">\n",
       "  <thead>\n",
       "    <tr style=\"text-align: right;\">\n",
       "      <th></th>\n",
       "      <th>High</th>\n",
       "      <th>Low</th>\n",
       "      <th>Open</th>\n",
       "      <th>Close</th>\n",
       "      <th>Volume</th>\n",
       "    </tr>\n",
       "    <tr>\n",
       "      <th>Date</th>\n",
       "      <th></th>\n",
       "      <th></th>\n",
       "      <th></th>\n",
       "      <th></th>\n",
       "      <th></th>\n",
       "    </tr>\n",
       "  </thead>\n",
       "  <tbody>\n",
       "    <tr>\n",
       "      <th>2016-11-07</th>\n",
       "      <td>60.520000</td>\n",
       "      <td>59.779999</td>\n",
       "      <td>59.779999</td>\n",
       "      <td>60.419998</td>\n",
       "      <td>31664800.0</td>\n",
       "    </tr>\n",
       "    <tr>\n",
       "      <th>2016-11-08</th>\n",
       "      <td>60.779999</td>\n",
       "      <td>60.150002</td>\n",
       "      <td>60.549999</td>\n",
       "      <td>60.470001</td>\n",
       "      <td>22935400.0</td>\n",
       "    </tr>\n",
       "    <tr>\n",
       "      <th>2016-11-09</th>\n",
       "      <td>60.590000</td>\n",
       "      <td>59.200001</td>\n",
       "      <td>60.000000</td>\n",
       "      <td>60.169998</td>\n",
       "      <td>49632500.0</td>\n",
       "    </tr>\n",
       "    <tr>\n",
       "      <th>2016-11-10</th>\n",
       "      <td>60.490002</td>\n",
       "      <td>57.630001</td>\n",
       "      <td>60.480000</td>\n",
       "      <td>58.700001</td>\n",
       "      <td>57822400.0</td>\n",
       "    </tr>\n",
       "    <tr>\n",
       "      <th>2016-11-11</th>\n",
       "      <td>59.119999</td>\n",
       "      <td>58.009998</td>\n",
       "      <td>58.230000</td>\n",
       "      <td>59.020000</td>\n",
       "      <td>38767800.0</td>\n",
       "    </tr>\n",
       "    <tr>\n",
       "      <th>...</th>\n",
       "      <td>...</td>\n",
       "      <td>...</td>\n",
       "      <td>...</td>\n",
       "      <td>...</td>\n",
       "      <td>...</td>\n",
       "    </tr>\n",
       "    <tr>\n",
       "      <th>2021-11-01</th>\n",
       "      <td>331.489990</td>\n",
       "      <td>326.369995</td>\n",
       "      <td>331.359985</td>\n",
       "      <td>329.369995</td>\n",
       "      <td>27073200.0</td>\n",
       "    </tr>\n",
       "    <tr>\n",
       "      <th>2021-11-02</th>\n",
       "      <td>333.450012</td>\n",
       "      <td>330.000000</td>\n",
       "      <td>330.309998</td>\n",
       "      <td>333.130005</td>\n",
       "      <td>26487100.0</td>\n",
       "    </tr>\n",
       "    <tr>\n",
       "      <th>2021-11-03</th>\n",
       "      <td>334.899994</td>\n",
       "      <td>330.649994</td>\n",
       "      <td>333.899994</td>\n",
       "      <td>334.000000</td>\n",
       "      <td>21500100.0</td>\n",
       "    </tr>\n",
       "    <tr>\n",
       "      <th>2021-11-04</th>\n",
       "      <td>336.540009</td>\n",
       "      <td>329.510010</td>\n",
       "      <td>332.890015</td>\n",
       "      <td>336.440002</td>\n",
       "      <td>23992200.0</td>\n",
       "    </tr>\n",
       "    <tr>\n",
       "      <th>2021-11-05</th>\n",
       "      <td>338.790009</td>\n",
       "      <td>334.420013</td>\n",
       "      <td>338.510010</td>\n",
       "      <td>336.059998</td>\n",
       "      <td>22570100.0</td>\n",
       "    </tr>\n",
       "  </tbody>\n",
       "</table>\n",
       "<p>1259 rows × 5 columns</p>\n",
       "</div>"
      ],
      "text/plain": [
       "                  High         Low        Open       Close      Volume\n",
       "Date                                                                  \n",
       "2016-11-07   60.520000   59.779999   59.779999   60.419998  31664800.0\n",
       "2016-11-08   60.779999   60.150002   60.549999   60.470001  22935400.0\n",
       "2016-11-09   60.590000   59.200001   60.000000   60.169998  49632500.0\n",
       "2016-11-10   60.490002   57.630001   60.480000   58.700001  57822400.0\n",
       "2016-11-11   59.119999   58.009998   58.230000   59.020000  38767800.0\n",
       "...                ...         ...         ...         ...         ...\n",
       "2021-11-01  331.489990  326.369995  331.359985  329.369995  27073200.0\n",
       "2021-11-02  333.450012  330.000000  330.309998  333.130005  26487100.0\n",
       "2021-11-03  334.899994  330.649994  333.899994  334.000000  21500100.0\n",
       "2021-11-04  336.540009  329.510010  332.890015  336.440002  23992200.0\n",
       "2021-11-05  338.790009  334.420013  338.510010  336.059998  22570100.0\n",
       "\n",
       "[1259 rows x 5 columns]"
      ]
     },
     "execution_count": 3,
     "metadata": {},
     "output_type": "execute_result"
    }
   ],
   "source": [
    "train = train.iloc[:,:5]\n",
    "train"
   ]
  },
  {
   "cell_type": "markdown",
   "metadata": {},
   "source": [
    "### Generating test dates "
   ]
  },
  {
   "cell_type": "code",
   "execution_count": 4,
   "metadata": {},
   "outputs": [],
   "source": [
    "#specify the start and the end of the test period\n",
    "start='2021-11-08'\n",
    "end='2021-11-19'\n",
    "#date for test period\n",
    "test_date = pd.date_range(start, end, freq='B')"
   ]
  },
  {
   "cell_type": "code",
   "execution_count": 5,
   "metadata": {},
   "outputs": [
    {
     "data": {
      "text/plain": [
       "DatetimeIndex(['2021-11-08', '2021-11-09', '2021-11-10', '2021-11-11',\n",
       "               '2021-11-12', '2021-11-15', '2021-11-16', '2021-11-17',\n",
       "               '2021-11-18', '2021-11-19'],\n",
       "              dtype='datetime64[ns]', freq='B')"
      ]
     },
     "execution_count": 5,
     "metadata": {},
     "output_type": "execute_result"
    }
   ],
   "source": [
    "test_date"
   ]
  },
  {
   "cell_type": "markdown",
   "metadata": {},
   "source": [
    "### Cutting windows on the train data"
   ]
  },
  {
   "cell_type": "code",
   "execution_count": 6,
   "metadata": {},
   "outputs": [],
   "source": [
    "#function to prepare data for LSTM and GRU\n",
    "def prepare_data(data_lstm,lookback ,future):\n",
    "    # generate the input and output sequences\n",
    "    data_lstm = np.array(data_lstm)\n",
    "    data_lstm = data_lstm.reshape(-1,1)\n",
    "    X_ = []\n",
    "    Y_ = []\n",
    "\n",
    "    for i in range(lookback, len(data_lstm) - future + 1):\n",
    "        X_.append(data_lstm[i - lookback: i])\n",
    "        Y_.append(data_lstm[i: i + future])\n",
    "\n",
    "    X_ = np.array(X_)\n",
    "    Y_ = np.array(Y_)\n",
    "    return(X_,Y_)"
   ]
  },
  {
   "cell_type": "markdown",
   "metadata": {},
   "source": [
    "### LSTM model"
   ]
  },
  {
   "cell_type": "code",
   "execution_count": 7,
   "metadata": {},
   "outputs": [],
   "source": [
    "#LSTM model\n",
    "def model_lstm(dataframe,test_date, lookback, future, epochs = 100):\n",
    "    cols = dataframe.columns\n",
    "    #a zero filled dataframe to capture the predicted values\n",
    "    d = pd.DataFrame(0, index=np.arange(len(test_date)), columns=cols)\n",
    "    #assigning test dates to the zero filled dataframe\n",
    "    d.index = test_date\n",
    "    \n",
    "    #calling each column at a time\n",
    "    for col in cols:\n",
    "        data = dataframe[col]\n",
    "        #standardization\n",
    "        m = data.mean()\n",
    "        s = data.std()\n",
    "        data = (data - m)/s\n",
    "        #calling the data preparation function\n",
    "        X, Y = prepare_data(data,30 ,len(test_date))\n",
    "\n",
    "        #callbacks to monitor overfitting\n",
    "        my_callbacks = [\n",
    "        tensorflow.keras.callbacks.EarlyStopping(patience=5),\n",
    "        ]\n",
    "        #initializing the weights\n",
    "        np.random.seed(1)\n",
    "        tensorflow.random.set_seed(1)\n",
    "        #model\n",
    "        model = Sequential()\n",
    "        model.add(LSTM(lookback, activation='relu', return_sequences=True))\n",
    "        model.add(LSTM(lookback, activation='relu'))\n",
    "        model.add(Dense(future))\n",
    "        model.compile(optimizer='Adam', loss='mse', metrics = 'mse')\n",
    "        #fitting\n",
    "        history = model.fit(X, Y, epochs=epochs , validation_split=0.2, verbose=0, shuffle=False, callbacks = my_callbacks)\n",
    "        #separating the last instance of the train data to make future prediction\n",
    "        xt = X[-1].reshape(1,-1,1)\n",
    "        #future prediction\n",
    "        yp = model.predict(xt)\n",
    "        #retransforming data to original\n",
    "        yp = yp *s + m\n",
    "        #appending the predictions to the zero filled column\n",
    "        d[col] = yp.flatten()\n",
    "        \n",
    "    return d"
   ]
  },
  {
   "cell_type": "code",
   "execution_count": 8,
   "metadata": {
    "scrolled": true
   },
   "outputs": [
    {
     "name": "stdout",
     "output_type": "stream",
     "text": [
      "WARNING:tensorflow:5 out of the last 5 calls to <function Model.make_predict_function.<locals>.predict_function at 0x000001EB6DCB1670> triggered tf.function retracing. Tracing is expensive and the excessive number of tracings could be due to (1) creating @tf.function repeatedly in a loop, (2) passing tensors with different shapes, (3) passing Python objects instead of tensors. For (1), please define your @tf.function outside of the loop. For (2), @tf.function has experimental_relax_shapes=True option that relaxes argument shapes that can avoid unnecessary retracing. For (3), please refer to https://www.tensorflow.org/guide/function#controlling_retracing and https://www.tensorflow.org/api_docs/python/tf/function for  more details.\n"
     ]
    }
   ],
   "source": [
    "lstm_df = model_lstm(train,test_date, 100, len(test_date), epochs = 10)"
   ]
  },
  {
   "cell_type": "markdown",
   "metadata": {},
   "source": [
    "### Predicted prices and volume using LSTM"
   ]
  },
  {
   "cell_type": "code",
   "execution_count": 9,
   "metadata": {},
   "outputs": [
    {
     "data": {
      "text/html": [
       "<div>\n",
       "<style scoped>\n",
       "    .dataframe tbody tr th:only-of-type {\n",
       "        vertical-align: middle;\n",
       "    }\n",
       "\n",
       "    .dataframe tbody tr th {\n",
       "        vertical-align: top;\n",
       "    }\n",
       "\n",
       "    .dataframe thead th {\n",
       "        text-align: right;\n",
       "    }\n",
       "</style>\n",
       "<table border=\"1\" class=\"dataframe\">\n",
       "  <thead>\n",
       "    <tr style=\"text-align: right;\">\n",
       "      <th></th>\n",
       "      <th>High</th>\n",
       "      <th>Low</th>\n",
       "      <th>Open</th>\n",
       "      <th>Close</th>\n",
       "      <th>Volume</th>\n",
       "    </tr>\n",
       "  </thead>\n",
       "  <tbody>\n",
       "    <tr>\n",
       "      <th>2021-11-08</th>\n",
       "      <td>453.807465</td>\n",
       "      <td>113.907402</td>\n",
       "      <td>369.046783</td>\n",
       "      <td>347.970062</td>\n",
       "      <td>23382072.0</td>\n",
       "    </tr>\n",
       "    <tr>\n",
       "      <th>2021-11-09</th>\n",
       "      <td>389.259888</td>\n",
       "      <td>939.976318</td>\n",
       "      <td>340.658203</td>\n",
       "      <td>335.299133</td>\n",
       "      <td>23722150.0</td>\n",
       "    </tr>\n",
       "    <tr>\n",
       "      <th>2021-11-10</th>\n",
       "      <td>455.801453</td>\n",
       "      <td>998.678345</td>\n",
       "      <td>372.960266</td>\n",
       "      <td>323.951965</td>\n",
       "      <td>24423778.0</td>\n",
       "    </tr>\n",
       "    <tr>\n",
       "      <th>2021-11-11</th>\n",
       "      <td>394.763184</td>\n",
       "      <td>838.852905</td>\n",
       "      <td>326.093506</td>\n",
       "      <td>319.191589</td>\n",
       "      <td>24874018.0</td>\n",
       "    </tr>\n",
       "    <tr>\n",
       "      <th>2021-11-12</th>\n",
       "      <td>548.066528</td>\n",
       "      <td>747.543945</td>\n",
       "      <td>368.222992</td>\n",
       "      <td>359.939087</td>\n",
       "      <td>24984534.0</td>\n",
       "    </tr>\n",
       "    <tr>\n",
       "      <th>2021-11-15</th>\n",
       "      <td>500.526520</td>\n",
       "      <td>1143.787598</td>\n",
       "      <td>378.843628</td>\n",
       "      <td>305.632050</td>\n",
       "      <td>25812592.0</td>\n",
       "    </tr>\n",
       "    <tr>\n",
       "      <th>2021-11-16</th>\n",
       "      <td>444.349457</td>\n",
       "      <td>1381.851440</td>\n",
       "      <td>357.235046</td>\n",
       "      <td>309.840332</td>\n",
       "      <td>25439978.0</td>\n",
       "    </tr>\n",
       "    <tr>\n",
       "      <th>2021-11-17</th>\n",
       "      <td>519.050049</td>\n",
       "      <td>1067.114380</td>\n",
       "      <td>357.498657</td>\n",
       "      <td>330.885315</td>\n",
       "      <td>25562022.0</td>\n",
       "    </tr>\n",
       "    <tr>\n",
       "      <th>2021-11-18</th>\n",
       "      <td>434.765381</td>\n",
       "      <td>1450.987427</td>\n",
       "      <td>365.012238</td>\n",
       "      <td>319.315521</td>\n",
       "      <td>25718966.0</td>\n",
       "    </tr>\n",
       "    <tr>\n",
       "      <th>2021-11-19</th>\n",
       "      <td>479.481110</td>\n",
       "      <td>1298.544678</td>\n",
       "      <td>382.027466</td>\n",
       "      <td>349.178772</td>\n",
       "      <td>25643428.0</td>\n",
       "    </tr>\n",
       "  </tbody>\n",
       "</table>\n",
       "</div>"
      ],
      "text/plain": [
       "                  High          Low        Open       Close      Volume\n",
       "2021-11-08  453.807465   113.907402  369.046783  347.970062  23382072.0\n",
       "2021-11-09  389.259888   939.976318  340.658203  335.299133  23722150.0\n",
       "2021-11-10  455.801453   998.678345  372.960266  323.951965  24423778.0\n",
       "2021-11-11  394.763184   838.852905  326.093506  319.191589  24874018.0\n",
       "2021-11-12  548.066528   747.543945  368.222992  359.939087  24984534.0\n",
       "2021-11-15  500.526520  1143.787598  378.843628  305.632050  25812592.0\n",
       "2021-11-16  444.349457  1381.851440  357.235046  309.840332  25439978.0\n",
       "2021-11-17  519.050049  1067.114380  357.498657  330.885315  25562022.0\n",
       "2021-11-18  434.765381  1450.987427  365.012238  319.315521  25718966.0\n",
       "2021-11-19  479.481110  1298.544678  382.027466  349.178772  25643428.0"
      ]
     },
     "execution_count": 9,
     "metadata": {},
     "output_type": "execute_result"
    }
   ],
   "source": [
    "lstm_df"
   ]
  },
  {
   "cell_type": "markdown",
   "metadata": {},
   "source": [
    "### GRU model"
   ]
  },
  {
   "cell_type": "code",
   "execution_count": 10,
   "metadata": {},
   "outputs": [],
   "source": [
    "#GRU model\n",
    "def model_gru(dataframe,test_date, lookback, future, epochs = 100):\n",
    "    cols = dataframe.columns\n",
    "    #a zero filled dataframe to capture the predicted values\n",
    "    d = pd.DataFrame(0, index=np.arange(len(test_date)), columns=cols)\n",
    "    #assigning test dates to the zero filled dataframe\n",
    "    d.index = test_date\n",
    "    \n",
    "    #calling each column at a time\n",
    "    for col in cols:\n",
    "        data = dataframe[col]\n",
    "        #standardization\n",
    "        m = data.mean()\n",
    "        s = data.std()\n",
    "        data = (data - m)/s\n",
    "        #calling the data preparation function\n",
    "        X, Y = prepare_data(data,30 ,len(test_date))\n",
    "\n",
    "        #callbacks to monitor overfitting\n",
    "        my_callbacks = [\n",
    "        tensorflow.keras.callbacks.EarlyStopping(patience=5),\n",
    "        ]\n",
    "        #initializing the weights\n",
    "        np.random.seed(1)\n",
    "        tensorflow.random.set_seed(1)\n",
    "        #model\n",
    "        model = Sequential()\n",
    "        model.add(GRU(lookback, activation='relu', return_sequences=True))\n",
    "        model.add(GRU(lookback, activation='relu'))\n",
    "        model.add(Dense(future))\n",
    "        model.compile(optimizer='Adam', loss='mse', metrics = 'mse')\n",
    "        #fitting\n",
    "        history = model.fit(X, Y, epochs=epochs , validation_split=0.2, verbose=0, shuffle=False, callbacks = my_callbacks)\n",
    "        #separating the last instance of the train data to make future prediction\n",
    "        xt = X[-1].reshape(1,-1,1)\n",
    "        #future prediction\n",
    "        yp = model.predict(xt)\n",
    "        #retransforming data to original\n",
    "        yp = yp *s + m\n",
    "        #appending the predictions to the zero filled column\n",
    "        d[col] = yp.flatten()\n",
    "        \n",
    "    return d"
   ]
  },
  {
   "cell_type": "code",
   "execution_count": 11,
   "metadata": {},
   "outputs": [
    {
     "name": "stdout",
     "output_type": "stream",
     "text": [
      "WARNING:tensorflow:6 out of the last 6 calls to <function Model.make_predict_function.<locals>.predict_function at 0x000001EB628A3E50> triggered tf.function retracing. Tracing is expensive and the excessive number of tracings could be due to (1) creating @tf.function repeatedly in a loop, (2) passing tensors with different shapes, (3) passing Python objects instead of tensors. For (1), please define your @tf.function outside of the loop. For (2), @tf.function has experimental_relax_shapes=True option that relaxes argument shapes that can avoid unnecessary retracing. For (3), please refer to https://www.tensorflow.org/guide/function#controlling_retracing and https://www.tensorflow.org/api_docs/python/tf/function for  more details.\n"
     ]
    }
   ],
   "source": [
    "gru_df = model_gru(train,test_date, 100, len(test_date), epochs = 10)"
   ]
  },
  {
   "cell_type": "markdown",
   "metadata": {},
   "source": [
    "### Predicted prices and volume using LSTM"
   ]
  },
  {
   "cell_type": "code",
   "execution_count": 12,
   "metadata": {},
   "outputs": [
    {
     "data": {
      "text/html": [
       "<div>\n",
       "<style scoped>\n",
       "    .dataframe tbody tr th:only-of-type {\n",
       "        vertical-align: middle;\n",
       "    }\n",
       "\n",
       "    .dataframe tbody tr th {\n",
       "        vertical-align: top;\n",
       "    }\n",
       "\n",
       "    .dataframe thead th {\n",
       "        text-align: right;\n",
       "    }\n",
       "</style>\n",
       "<table border=\"1\" class=\"dataframe\">\n",
       "  <thead>\n",
       "    <tr style=\"text-align: right;\">\n",
       "      <th></th>\n",
       "      <th>High</th>\n",
       "      <th>Low</th>\n",
       "      <th>Open</th>\n",
       "      <th>Close</th>\n",
       "      <th>Volume</th>\n",
       "    </tr>\n",
       "  </thead>\n",
       "  <tbody>\n",
       "    <tr>\n",
       "      <th>2021-11-08</th>\n",
       "      <td>304.583191</td>\n",
       "      <td>293.498779</td>\n",
       "      <td>306.677704</td>\n",
       "      <td>282.626038</td>\n",
       "      <td>20585154.0</td>\n",
       "    </tr>\n",
       "    <tr>\n",
       "      <th>2021-11-09</th>\n",
       "      <td>286.629791</td>\n",
       "      <td>296.708984</td>\n",
       "      <td>304.934143</td>\n",
       "      <td>277.761719</td>\n",
       "      <td>21637188.0</td>\n",
       "    </tr>\n",
       "    <tr>\n",
       "      <th>2021-11-10</th>\n",
       "      <td>297.583710</td>\n",
       "      <td>296.267151</td>\n",
       "      <td>307.456726</td>\n",
       "      <td>281.845703</td>\n",
       "      <td>22462628.0</td>\n",
       "    </tr>\n",
       "    <tr>\n",
       "      <th>2021-11-11</th>\n",
       "      <td>286.306000</td>\n",
       "      <td>294.387878</td>\n",
       "      <td>305.056854</td>\n",
       "      <td>274.119537</td>\n",
       "      <td>22723510.0</td>\n",
       "    </tr>\n",
       "    <tr>\n",
       "      <th>2021-11-12</th>\n",
       "      <td>284.269287</td>\n",
       "      <td>294.935120</td>\n",
       "      <td>300.597168</td>\n",
       "      <td>278.689575</td>\n",
       "      <td>23061100.0</td>\n",
       "    </tr>\n",
       "    <tr>\n",
       "      <th>2021-11-15</th>\n",
       "      <td>289.358032</td>\n",
       "      <td>291.721252</td>\n",
       "      <td>300.185608</td>\n",
       "      <td>274.303955</td>\n",
       "      <td>23852982.0</td>\n",
       "    </tr>\n",
       "    <tr>\n",
       "      <th>2021-11-16</th>\n",
       "      <td>292.693787</td>\n",
       "      <td>294.014221</td>\n",
       "      <td>303.090302</td>\n",
       "      <td>277.942413</td>\n",
       "      <td>24242236.0</td>\n",
       "    </tr>\n",
       "    <tr>\n",
       "      <th>2021-11-17</th>\n",
       "      <td>296.240997</td>\n",
       "      <td>298.834900</td>\n",
       "      <td>308.008118</td>\n",
       "      <td>283.164795</td>\n",
       "      <td>23938130.0</td>\n",
       "    </tr>\n",
       "    <tr>\n",
       "      <th>2021-11-18</th>\n",
       "      <td>292.643494</td>\n",
       "      <td>296.763611</td>\n",
       "      <td>305.462982</td>\n",
       "      <td>283.082245</td>\n",
       "      <td>23905736.0</td>\n",
       "    </tr>\n",
       "    <tr>\n",
       "      <th>2021-11-19</th>\n",
       "      <td>297.274353</td>\n",
       "      <td>299.499481</td>\n",
       "      <td>309.580780</td>\n",
       "      <td>283.718201</td>\n",
       "      <td>23808290.0</td>\n",
       "    </tr>\n",
       "  </tbody>\n",
       "</table>\n",
       "</div>"
      ],
      "text/plain": [
       "                  High         Low        Open       Close      Volume\n",
       "2021-11-08  304.583191  293.498779  306.677704  282.626038  20585154.0\n",
       "2021-11-09  286.629791  296.708984  304.934143  277.761719  21637188.0\n",
       "2021-11-10  297.583710  296.267151  307.456726  281.845703  22462628.0\n",
       "2021-11-11  286.306000  294.387878  305.056854  274.119537  22723510.0\n",
       "2021-11-12  284.269287  294.935120  300.597168  278.689575  23061100.0\n",
       "2021-11-15  289.358032  291.721252  300.185608  274.303955  23852982.0\n",
       "2021-11-16  292.693787  294.014221  303.090302  277.942413  24242236.0\n",
       "2021-11-17  296.240997  298.834900  308.008118  283.164795  23938130.0\n",
       "2021-11-18  292.643494  296.763611  305.462982  283.082245  23905736.0\n",
       "2021-11-19  297.274353  299.499481  309.580780  283.718201  23808290.0"
      ]
     },
     "execution_count": 12,
     "metadata": {},
     "output_type": "execute_result"
    }
   ],
   "source": [
    "gru_df"
   ]
  },
  {
   "cell_type": "markdown",
   "metadata": {},
   "source": [
    "### Visualizing the forecasted results of both the models"
   ]
  },
  {
   "cell_type": "code",
   "execution_count": 15,
   "metadata": {},
   "outputs": [
    {
     "data": {
      "text/plain": [
       "<matplotlib.legend.Legend at 0x1eb7115aa60>"
      ]
     },
     "execution_count": 15,
     "metadata": {},
     "output_type": "execute_result"
    },
    {
     "data": {
      "image/png": "[encoded data removed]",
      "text/plain": [
       "<Figure size 432x288 with 1 Axes>"
      ]
     },
     "metadata": {
      "needs_background": "light"
     },
     "output_type": "display_data"
    }
   ],
   "source": [
    "plt.plot(gru_df['Volume'], label = 'GRU Prediction')\n",
    "plt.plot(lstm_df['Volume'], label = 'LSTM Prediction')\n",
    "plt.plot(train['Volume'][-40:], label = 'Actual')\n",
    "plt.title('Volume')\n",
    "plt.legend()"
   ]
  },
  {
   "cell_type": "code",
   "execution_count": null,
   "metadata": {},
   "outputs": [],
   "source": []
  },
  {
   "cell_type": "markdown",
   "metadata": {},
   "source": [
    "### Due to limitations of my laptop i was not able to train for more than 10 epochs without the kernel crashing. "
   ]
  },
  {
   "cell_type": "code",
   "execution_count": null,
   "metadata": {},
   "outputs": [],
   "source": []
  }
 ],
 "metadata": {
  "kernelspec": {
   "display_name": "Python 3 (ipykernel)",
   "language": "python",
   "name": "python3"
  },
  "language_info": {
   "codemirror_mode": {
    "name": "ipython",
    "version": 3
   },
   "file_extension": ".py",
   "mimetype": "text/x-python",
   "name": "python",
   "nbconvert_exporter": "python",
   "pygments_lexer": "ipython3",
   "version": "3.9.7"
  },
  "toc": {
   "base_numbering": 1,
   "nav_menu": {},
   "number_sections": true,
   "sideBar": true,
   "skip_h1_title": false,
   "title_cell": "Table of Contents",
   "title_sidebar": "Contents",
   "toc_cell": false,
   "toc_position": {},
   "toc_section_display": true,
   "toc_window_display": false
  }
 },
 "nbformat": 4,
 "nbformat_minor": 4
}
